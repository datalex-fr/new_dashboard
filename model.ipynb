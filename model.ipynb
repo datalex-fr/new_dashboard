{
 "cells": [
  {
   "cell_type": "code",
   "execution_count": 1,
   "id": "507debe9",
   "metadata": {},
   "outputs": [],
   "source": [
    "import numpy as np \n",
    "import pandas as pd\n",
    "\n",
    "## PLOT\n",
    "import matplotlib.pyplot as plt\n",
    "import seaborn as sns\n",
    "\n",
    "## Preprocessing\n",
    "from sklearn.compose import ColumnTransformer\n",
    "from sklearn.pipeline import Pipeline\n",
    "from sklearn.impute import SimpleImputer\n",
    "from sklearn.preprocessing import RobustScaler, OneHotEncoder\n",
    "\n",
    "## Resampling\n",
    "from imblearn.over_sampling import RandomOverSampler\n",
    "from imblearn.under_sampling import RandomUnderSampler\n",
    "from imblearn.over_sampling import SMOTE\n",
    "from imblearn.combine import SMOTETomek\n",
    "from imblearn.under_sampling import TomekLinks\n",
    "from collections import Counter\n",
    "\n",
    "##Split\n",
    "from sklearn.model_selection import train_test_split\n",
    "\n",
    "## Modelisation\n",
    "\n",
    "from sklearn.linear_model import LogisticRegression\n",
    "from sklearn.model_selection import GridSearchCV, RepeatedStratifiedKFold, RandomizedSearchCV\n",
    "from sklearn.model_selection import train_test_split, KFold, cross_val_score, StratifiedKFold\n",
    "from sklearn.ensemble import RandomForestClassifier\n",
    "from lightgbm import LGBMClassifier as lgb\n",
    "#import lightgbm as lgb\n",
    "\n",
    "## Scores\n",
    "from sklearn.metrics import roc_auc_score\n",
    "from sklearn.metrics import confusion_matrix\n",
    "from sklearn.metrics import roc_curve\n",
    "from sklearn.metrics import fbeta_score\n",
    "from sklearn.metrics import precision_recall_fscore_support\n",
    "import scikitplot as skplt\n",
    "from sklearn.model_selection import cross_val_score\n",
    "from sklearn.metrics import  make_scorer\n",
    "from sklearn.metrics import classification_report\n",
    "from sklearn.metrics import precision_score\n",
    "from sklearn.metrics import f1_score\n",
    "from sklearn.metrics import recall_score\n",
    "\n",
    "## feature importance\n",
    "import shap\n",
    "\n",
    "## Threshold\n",
    "from yellowbrick.classifier.threshold import discrimination_threshold\n",
    "\n",
    "## Export\n",
    "import pickle\n",
    "import joblib\n",
    "## Warning\n",
    "import warnings\n",
    "warnings.filterwarnings(\"ignore\")"
   ]
  },
  {
   "cell_type": "code",
   "execution_count": 2,
   "id": "4ad4a2f7",
   "metadata": {},
   "outputs": [],
   "source": [
    "# Réduire l'utilisation de la mémoire par le dataframe consolidé\n",
    "\n",
    "def reduce_mem_usage(df):\n",
    "    \"\"\" iterate through all the columns of a dataframe and modify the data type to reduce memory usage        \n",
    "    \"\"\"\n",
    "    start_mem = df.memory_usage().sum() / 1024**2\n",
    "    print('Memory usage of dataframe is {:.2f} MB'.format(start_mem))\n",
    "    \n",
    "    for col in df.columns:\n",
    "        col_type = df[col].dtype\n",
    "        \n",
    "        if col_type != object:\n",
    "            c_min = df[col].min()\n",
    "            c_max = df[col].max()\n",
    "            if str(col_type)[:3] == 'int':\n",
    "                if c_min > np.iinfo(np.int8).min and c_max < np.iinfo(np.int8).max:\n",
    "                    df[col] = df[col].astype(np.int8)\n",
    "                elif c_min > np.iinfo(np.int16).min and c_max < np.iinfo(np.int16).max:\n",
    "                    df[col] = df[col].astype(np.int16)\n",
    "                elif c_min > np.iinfo(np.int32).min and c_max < np.iinfo(np.int32).max:\n",
    "                    df[col] = df[col].astype(np.int32)\n",
    "                elif c_min > np.iinfo(np.int64).min and c_max < np.iinfo(np.int64).max:\n",
    "                    df[col] = df[col].astype(np.int64)  \n",
    "            else:\n",
    "                if c_min > np.finfo(np.float16).min and c_max < np.finfo(np.float16).max:\n",
    "                    df[col] = df[col].astype(np.float16)\n",
    "                elif c_min > np.finfo(np.float32).min and c_max < np.finfo(np.float32).max:\n",
    "                    df[col] = df[col].astype(np.float32)\n",
    "                else:\n",
    "                    df[col] = df[col].astype(np.float64)\n",
    "        else:\n",
    "            df[col] = df[col].astype('category')\n",
    "\n",
    "    end_mem = df.memory_usage().sum() / 1024**2\n",
    "    print('Memory usage after optimization is: {:.2f} MB'.format(end_mem))\n",
    "    print('Decreased by {:.1f}%'.format(100 * (start_mem - end_mem) / start_mem))\n",
    "    \n",
    "    return df"
   ]
  },
  {
   "cell_type": "code",
   "execution_count": 3,
   "id": "9e14f926",
   "metadata": {},
   "outputs": [],
   "source": [
    "train_set = pd.read_csv('train_set.csv')\n",
    "test_set = pd.read_csv('test_set.csv')"
   ]
  },
  {
   "cell_type": "code",
   "execution_count": 4,
   "id": "81f5a92b",
   "metadata": {
    "scrolled": true
   },
   "outputs": [
    {
     "name": "stdout",
     "output_type": "stream",
     "text": [
      "Memory usage of dataframe is 593.56 MB\n",
      "Memory usage after optimization is: 204.99 MB\n",
      "Decreased by 65.5%\n"
     ]
    }
   ],
   "source": [
    "train_set = reduce_mem_usage(train_set)"
   ]
  },
  {
   "cell_type": "code",
   "execution_count": 5,
   "id": "bd7934e2",
   "metadata": {},
   "outputs": [
    {
     "name": "stdout",
     "output_type": "stream",
     "text": [
      "<class 'pandas.core.frame.DataFrame'>\n",
      "RangeIndex: 307507 entries, 0 to 307506\n",
      "Columns: 253 entries, PAYMENT_RATE to SK_ID_CURR\n",
      "dtypes: float16(146), float32(96), float64(1), int16(2), int32(1), int8(7)\n",
      "memory usage: 205.0 MB\n"
     ]
    }
   ],
   "source": [
    "train_set.info()"
   ]
  },
  {
   "cell_type": "code",
   "execution_count": 6,
   "id": "ac71d8e2",
   "metadata": {},
   "outputs": [
    {
     "data": {
      "text/plain": [
       "(307507, 253)"
      ]
     },
     "execution_count": 6,
     "metadata": {},
     "output_type": "execute_result"
    }
   ],
   "source": [
    "train_set.shape"
   ]
  },
  {
   "cell_type": "code",
   "execution_count": 7,
   "id": "4583fac4",
   "metadata": {},
   "outputs": [],
   "source": [
    "train_set.replace([np.inf, -np.inf], np.nan, inplace=True)"
   ]
  },
  {
   "cell_type": "code",
   "execution_count": 8,
   "id": "ba86aab3",
   "metadata": {},
   "outputs": [],
   "source": [
    "train_len = train_set.shape[0]\n",
    "train_dataset = train_set[:train_len]\n",
    "train_ids = train_dataset['SK_ID_CURR']\n",
    "train_dataset.drop(columns=['SK_ID_CURR'], axis = 1, inplace=True)"
   ]
  },
  {
   "cell_type": "code",
   "execution_count": 9,
   "id": "0dacddf8",
   "metadata": {},
   "outputs": [
    {
     "name": "stdout",
     "output_type": "stream",
     "text": [
      "x_train data shape:  (307507, 251)\n",
      "y_train data shape:  (307507,)\n"
     ]
    }
   ],
   "source": [
    "# separate training dataset\n",
    "train_dataset['TARGET'] = train_dataset['TARGET'].astype(int)\n",
    "target = train_dataset['TARGET']\n",
    "features = train_dataset.drop(columns=['TARGET'], axis = 1)\n",
    "print('x_train data shape: ', features.shape)\n",
    "print('y_train data shape: ', target.shape)"
   ]
  },
  {
   "cell_type": "code",
   "execution_count": 10,
   "id": "7312f0b4",
   "metadata": {},
   "outputs": [
    {
     "data": {
      "text/plain": [
       "(307507,)"
      ]
     },
     "execution_count": 10,
     "metadata": {},
     "output_type": "execute_result"
    }
   ],
   "source": [
    "target_sample = target\n",
    "target_sample.shape"
   ]
  },
  {
   "cell_type": "code",
   "execution_count": 11,
   "id": "ef398b47",
   "metadata": {},
   "outputs": [
    {
     "data": {
      "text/plain": [
       "(307507,)"
      ]
     },
     "execution_count": 11,
     "metadata": {},
     "output_type": "execute_result"
    }
   ],
   "source": [
    "target_sample = target\n",
    "target_sample.shape"
   ]
  },
  {
   "cell_type": "code",
   "execution_count": 12,
   "id": "a04c9d55",
   "metadata": {
    "scrolled": true
   },
   "outputs": [
    {
     "data": {
      "text/plain": [
       "(307507, 251)"
      ]
     },
     "execution_count": 12,
     "metadata": {},
     "output_type": "execute_result"
    }
   ],
   "source": [
    "features_sample = features\n",
    "features_sample.shape"
   ]
  },
  {
   "cell_type": "markdown",
   "id": "0732f125",
   "metadata": {},
   "source": [
    "# objectif de ce notebook\n",
    "\n",
    "    Résoudre la problèmatique des 'Imbalanced Data'\n",
    "    Tester différents modèles de classification et optimiser les hyperparamètres ( avec un GridSearchCV)\n",
    "    Evaluer les performances avec des scores de classification (AUC et Fbeta, F1 etc.)\n",
    "    Optimiser le treshold pour avec le moins de \n",
    "    Sélectioner et visualiser les caractéristiques de modèle (feature importance et shap)"
   ]
  },
  {
   "cell_type": "markdown",
   "id": "f9ca4eda",
   "metadata": {},
   "source": [
    "# preprocessing"
   ]
  },
  {
   "cell_type": "markdown",
   "id": "54f3c33c",
   "metadata": {},
   "source": [
    "\n",
    "\n",
    "Le prétraitement des données est le suivant:\n",
    "\n",
    "    - Echantillionage du jeu de données (30% test set)\n",
    "    - Mise à l'échelle des fonctionnalités (Robust scaler(plus fiable vis à vis des outliers))\n",
    "    - Compléter les données manquantes (imputation médiane)"
   ]
  },
  {
   "cell_type": "code",
   "execution_count": 13,
   "id": "419abc70",
   "metadata": {},
   "outputs": [],
   "source": [
    "# train test split\n",
    "X_train, X_test, y_train, y_test = train_test_split(features_sample, target_sample, test_size = 0.3)"
   ]
  },
  {
   "cell_type": "code",
   "execution_count": 14,
   "id": "eb47a576",
   "metadata": {},
   "outputs": [],
   "source": [
    "# define numerical columns\n",
    "numeric_attribute = list(features_sample.select_dtypes(exclude=[\"bool_\",\"object_\"]).columns)"
   ]
  },
  {
   "cell_type": "code",
   "execution_count": 15,
   "id": "df301c79",
   "metadata": {},
   "outputs": [],
   "source": [
    "# pipeline transformation (imputation, scaling, encoding)\n",
    "def Preprocessing (numeric):\n",
    "    numeric_transfs = [('imputer',SimpleImputer(missing_values= np.NAN, strategy= 'median')),('scaler', RobustScaler())]\n",
    "    numeric_pipeline = Pipeline(numeric_transfs)\n",
    "    all_transfs = [(\"numeric\",numeric_pipeline,numeric)]\n",
    "    full_preprocessor = ColumnTransformer(all_transfs, remainder='passthrough')\n",
    "    return full_preprocessor"
   ]
  },
  {
   "cell_type": "code",
   "execution_count": 16,
   "id": "aab53888",
   "metadata": {
    "scrolled": true
   },
   "outputs": [],
   "source": [
    "# data Transformed\n",
    "preprocessor_fitted = Preprocessing(numeric_attribute).fit(X_train)\n",
    "X_train_transformed = preprocessor_fitted.transform(X_train)\n",
    "X_test_transformed = preprocessor_fitted.transform(X_test)"
   ]
  },
  {
   "cell_type": "code",
   "execution_count": 17,
   "id": "62384014",
   "metadata": {},
   "outputs": [],
   "source": [
    "pd.DataFrame(X_train).to_csv('X_train.csv',index=False)\n",
    "pd.DataFrame(y_train).to_csv('y_train.csv',index=False)\n",
    "pd.DataFrame(X_test).to_csv('X_test.csv',index=False)\n",
    "pd.DataFrame(y_test).to_csv('y_test.csv',index=False)"
   ]
  },
  {
   "cell_type": "code",
   "execution_count": 18,
   "id": "56f9315b",
   "metadata": {},
   "outputs": [
    {
     "data": {
      "text/plain": [
       "(215254, 251)"
      ]
     },
     "execution_count": 18,
     "metadata": {},
     "output_type": "execute_result"
    }
   ],
   "source": [
    "X_train.shape"
   ]
  },
  {
   "cell_type": "code",
   "execution_count": 19,
   "id": "a89de788",
   "metadata": {},
   "outputs": [
    {
     "data": {
      "text/plain": [
       "(92253, 251)"
      ]
     },
     "execution_count": 19,
     "metadata": {},
     "output_type": "execute_result"
    }
   ],
   "source": [
    "X_test.shape"
   ]
  },
  {
   "cell_type": "code",
   "execution_count": 20,
   "id": "1f83f65f",
   "metadata": {},
   "outputs": [],
   "source": [
    "#X_train_transformed.shape, X_test_transformed.shape, y_train.shape, y_test.shape"
   ]
  },
  {
   "cell_type": "markdown",
   "id": "4e264485",
   "metadata": {},
   "source": [
    "# regression logistique & baseline"
   ]
  },
  {
   "cell_type": "code",
   "execution_count": 21,
   "id": "7f740d22",
   "metadata": {},
   "outputs": [],
   "source": [
    "#C=10, multi_class=\"auto\", solver=\"liblinear\""
   ]
  },
  {
   "cell_type": "code",
   "execution_count": 22,
   "id": "fe9f4266",
   "metadata": {},
   "outputs": [],
   "source": [
    "def log_reg(df_X_train, df_y_train, df_y_test, df_X_test):\n",
    "    \n",
    "    # make the model with the specified regularization parameter\n",
    "    log_reg = LogisticRegression(C = 0.0001, max_iter=100)\n",
    "\n",
    "    # train on the training data\n",
    "    log_reg.fit(df_X_train, df_y_train)\n",
    "    \n",
    "    y_pred = log_reg.predict(df_X_test)\n",
    "\n",
    "    accuracy = accuracy_score(df_y_test, y_pred)\n",
    "    \n",
    "    print(\"Accuracy: %.2f%%\" % (accuracy * 100.0)) \n",
    "    \n",
    "    roc_auc = roc_auc_score(df_y_test, y_pred)\n",
    "    \n",
    "    print(\"roc_auc: %.2f%%\" % (roc_auc * 100.0))\n",
    "    \n",
    "    fbeta = fbeta_score(df_y_test, y_pred, beta=2)\n",
    "    \n",
    "    print(\"fbeta: %.2f%%\" % (fbeta * 100.0))\n",
    "    \n",
    "    precision = precision_score(df_y_test, y_pred)\n",
    "    \n",
    "    print(\"precision: %.2f%%\" % (precision * 100.0))\n",
    "    \n",
    "    f1 = f1_score(df_y_test, y_pred)\n",
    "    \n",
    "    print(\"f1_score: %.2f%%\" % (f1 * 100.0))\n",
    "    \n",
    "    recall = recall_score(df_y_test, y_pred)\n",
    "    \n",
    "    print(\"recall_score: %.2f%%\" % (recall * 100.0))\n",
    "\n",
    "    \n",
    "    # make predictions\n",
    "    log_reg_pred = log_reg.predict_proba(df_X_test)[:, 1]\n",
    "    \n",
    "    return log_reg_pred"
   ]
  },
  {
   "cell_type": "code",
   "execution_count": 23,
   "id": "51809930",
   "metadata": {},
   "outputs": [],
   "source": [
    "def cf_matrix_roc_auc(model, y_true, y_pred, y_pred_proba, feature_importances):\n",
    "    '''function will make a pretty plot of \n",
    "  an sklearn confusion matrix using a Seaborn heatmap visualization + ROC curve'''\n",
    "    fig = plt.figure(figsize=(20,15))\n",
    "  \n",
    "    plt.subplot(221)\n",
    "    cf_matrix = confusion_matrix(y_true, y_pred)\n",
    "    group_names = ['true neg', 'false pos', 'false neg', 'true pos']\n",
    "    group_counts = [\"{0:0.0f}\".format(value) for value in cf_matrix.flatten()]\n",
    "    group_percentages = [\"{0:.2%}\".format(value) for value in cf_matrix.flatten()/np.sum(cf_matrix)]\n",
    "  \n",
    "    labels = [f\"{v1}\\n{v2}\\n{v3}\" for v1, v2, v3 in zip(group_names,group_counts,group_percentages)]\n",
    "    labels = np.asarray(labels).reshape(2,2)\n",
    "    sns.heatmap(cf_matrix, annot=labels, fmt=\"\", cmap='Blues')\n",
    "\n",
    "    plt.subplot(222)\n",
    "    fpr,tpr,_ = roc_curve(y_true, y_pred_proba)\n",
    "    plt.plot(fpr, tpr, color='orange', linewidth=5, label='AUC = %0.4f' %auc_score_lgb)\n",
    "    plt.plot([0, 1], [0, 1], color='darkblue', linestyle='--')\n",
    "    plt.xlabel('false positive rate')\n",
    "    plt.ylabel('true positive rate')\n",
    "    plt.legend()"
   ]
  },
  {
   "cell_type": "code",
   "execution_count": 24,
   "id": "14bf9b43",
   "metadata": {},
   "outputs": [],
   "source": [
    "def save_results(df_res, df_pred, new_col, df_index):\n",
    "\n",
    "    df_pred_lr = pd.DataFrame(df_pred, columns=[new_col], index=df_index.index)\n",
    "\n",
    "    df_res = pd.concat([df_res, df_pred_lr], sort=False, axis=1)\n",
    "    \n",
    "    return df_res"
   ]
  },
  {
   "cell_type": "code",
   "execution_count": 25,
   "id": "3a82a696",
   "metadata": {},
   "outputs": [],
   "source": [
    "def transform_treshold(df, tresh):\n",
    "    \n",
    "    new_df = (df >= tresh).astype(\"int\")\n",
    "    \n",
    "    return new_df"
   ]
  },
  {
   "cell_type": "code",
   "execution_count": 26,
   "id": "7f0f3c55",
   "metadata": {
    "scrolled": false
   },
   "outputs": [
    {
     "name": "stdout",
     "output_type": "stream",
     "text": [
      "Accuracy: 56.46%\n",
      "roc_auc: 50.14%\n",
      "fbeta: 22.90%\n",
      "precision: 8.03%\n",
      "f1_score: 13.51%\n",
      "recall_score: 42.62%\n"
     ]
    },
    {
     "data": {
      "text/html": [
       "<div>\n",
       "<style scoped>\n",
       "    .dataframe tbody tr th:only-of-type {\n",
       "        vertical-align: middle;\n",
       "    }\n",
       "\n",
       "    .dataframe tbody tr th {\n",
       "        vertical-align: top;\n",
       "    }\n",
       "\n",
       "    .dataframe thead th {\n",
       "        text-align: right;\n",
       "    }\n",
       "</style>\n",
       "<table border=\"1\" class=\"dataframe\">\n",
       "  <thead>\n",
       "    <tr style=\"text-align: right;\">\n",
       "      <th></th>\n",
       "      <th>y_true</th>\n",
       "      <th>y_pred_lr</th>\n",
       "      <th>y_pred_lr_bin</th>\n",
       "    </tr>\n",
       "  </thead>\n",
       "  <tbody>\n",
       "    <tr>\n",
       "      <th>296526</th>\n",
       "      <td>0</td>\n",
       "      <td>0.493337</td>\n",
       "      <td>0</td>\n",
       "    </tr>\n",
       "    <tr>\n",
       "      <th>109743</th>\n",
       "      <td>0</td>\n",
       "      <td>0.500000</td>\n",
       "      <td>1</td>\n",
       "    </tr>\n",
       "    <tr>\n",
       "      <th>277593</th>\n",
       "      <td>0</td>\n",
       "      <td>0.500000</td>\n",
       "      <td>1</td>\n",
       "    </tr>\n",
       "    <tr>\n",
       "      <th>248433</th>\n",
       "      <td>0</td>\n",
       "      <td>0.221805</td>\n",
       "      <td>0</td>\n",
       "    </tr>\n",
       "    <tr>\n",
       "      <th>57955</th>\n",
       "      <td>1</td>\n",
       "      <td>0.044838</td>\n",
       "      <td>0</td>\n",
       "    </tr>\n",
       "  </tbody>\n",
       "</table>\n",
       "</div>"
      ],
      "text/plain": [
       "        y_true  y_pred_lr  y_pred_lr_bin\n",
       "296526       0   0.493337              0\n",
       "109743       0   0.500000              1\n",
       "277593       0   0.500000              1\n",
       "248433       0   0.221805              0\n",
       "57955        1   0.044838              0"
      ]
     },
     "metadata": {},
     "output_type": "display_data"
    },
    {
     "name": "stdout",
     "output_type": "stream",
     "text": [
      "(92253, 3)\n",
      "              precision    recall  f1-score   support\n",
      "\n",
      "           0       0.92      0.58      0.71     84891\n",
      "           1       0.08      0.43      0.14      7362\n",
      "\n",
      "    accuracy                           0.56     92253\n",
      "   macro avg       0.50      0.50      0.42     92253\n",
      "weighted avg       0.85      0.56      0.66     92253\n",
      "\n"
     ]
    }
   ],
   "source": [
    "from sklearn.linear_model import LogisticRegression\n",
    "from sklearn.metrics import accuracy_score\n",
    "\n",
    "# we create the results dataframe\n",
    "df_results_base = pd.DataFrame(y_test.values, columns=[\"y_true\"], index=y_test.index)\n",
    "\n",
    "# we launch the predictions\n",
    "log_reg_pred = log_reg(X_train_transformed, y_train, y_test, X_test_transformed)\n",
    "\n",
    "# save the results\n",
    "df_results_base = save_results(df_results_base, log_reg_pred, \"y_pred_lr\", y_test)\n",
    "\n",
    "# we \"binarize\" the probabilities with a treshold set to 0.5\n",
    "# for example, for a treshold of 0.5, if the probability is lower the value will be 0. Otherwise it will be 1.\n",
    "# and we concatenate the data to our array of results\n",
    "df_results_base[\"y_pred_lr_bin\"] = transform_treshold(df_results_base[\"y_pred_lr\"], 0.5)\n",
    "\n",
    "display(df_results_base.head())\n",
    "print(df_results_base.shape)\n",
    "print(classification_report(y_test, df_results_base[\"y_pred_lr_bin\"]))"
   ]
  },
  {
   "cell_type": "markdown",
   "id": "c361f7ad",
   "metadata": {},
   "source": [
    "# Accuracy, Precision, Recall, F1 score\n",
    "\n",
    "\n",
    "- L'accuracy : l'accuracy ne signifit pas grand chose pour les problemes de classification binaire\n",
    "- La précision : ce coefficient détermine que, quand le classifieur déclare que la prédiction est un 1, il a raison à X%.\n",
    "- Le rappel : ce coefficient détermine le pourcentage de détection des 1 du classifieur\n",
    "- Le F1-score : ce coefficient est une moyenne de la précision et du rappel"
   ]
  },
  {
   "cell_type": "markdown",
   "id": "b783e883",
   "metadata": {},
   "source": [
    "Les premiers résultats  montre un déséquilibre entre la précision de la target 0 (0.92) et la target 1 (0.08) \n",
    "Pour rappel, l'échantillon de travail n'est pas équilibré, avec 92% des individus classés en modalité 0 et 8% en modalité 1 (1= défaut de paiement)\n",
    "Le feature engineering précedement fait n'a pas tellement contribuer a un amélioration des scores\n",
    "\n",
    "Il serait donc intéressant d'essayer l'oversampling/undersampling pour ajuster la distribution de classe de manière égalitaire 50%-50%\n",
    "\n",
    "- l'under sampling, enlève des individus de la classe majoritaire\n",
    "- l'over sampling, rajoute des individus dans la classe minoritaire"
   ]
  },
  {
   "cell_type": "markdown",
   "id": "63e29291",
   "metadata": {},
   "source": [
    "# matrice de confusion"
   ]
  },
  {
   "cell_type": "markdown",
   "id": "38286f67",
   "metadata": {},
   "source": [
    "Affiche les prédictions correctes et incorrectes pour chaque classe"
   ]
  },
  {
   "cell_type": "code",
   "execution_count": 27,
   "id": "1876e6b8",
   "metadata": {},
   "outputs": [],
   "source": [
    "def aff_confusion_matrix(df_true, df_pred):\n",
    "\n",
    "    conf_mat = confusion_matrix(df_true, df_pred)\n",
    "\n",
    "    print('confusion matrix:\\n', conf_mat)\n",
    "\n",
    "    labels = ['classe 0', 'classe 1']\n",
    "    fig = plt.figure()\n",
    "    ax = fig.add_subplot(111)\n",
    "    cax = ax.matshow(conf_mat, cmap=plt.cm.Blues)\n",
    "    fig.colorbar(cax)\n",
    "    ax.set_xticklabels([''] + labels)\n",
    "    ax.set_yticklabels([''] + labels)\n",
    "    plt.xlabel('predicted')\n",
    "    plt.ylabel('expected')\n",
    "    plt.show()"
   ]
  },
  {
   "cell_type": "markdown",
   "id": "3496219b",
   "metadata": {},
   "source": [
    "La matrice de confusion permet d'évaluer l'exactitude d'une classification.\n",
    "\n",
    "Les individus dont la valeur cible réelle est 0 et dont la prédiction est 0 sont les 'True Negatives' dits aussi 'TN'\n",
    "\n",
    "Les individus dont la valeur cible réelle est 0 alors que la prédiction est 1 sont les 'False Negatives' appelés aussi 'FN'\n",
    "\n",
    "Les individus dont la valeur cible réelle est 1 alors que la prédiction est 0 sont les 'False Positives' appelés aussi 'FP'\n",
    "\n",
    "Les individus dont la valeur cible réelle est 1 et dont la prédiction est 1 sont les 'True Positives' appelés aussi 'TP'"
   ]
  },
  {
   "cell_type": "code",
   "execution_count": 28,
   "id": "6b6e41ec",
   "metadata": {
    "scrolled": false
   },
   "outputs": [
    {
     "name": "stdout",
     "output_type": "stream",
     "text": [
      "confusion matrix:\n",
      " [[48949 35942]\n",
      " [ 4224  3138]]\n"
     ]
    },
    {
     "data": {
      "image/png": "[encoded data removed]",
      "text/plain": [
       "<Figure size 800x550 with 2 Axes>"
      ]
     },
     "metadata": {},
     "output_type": "display_data"
    }
   ],
   "source": [
    "from sklearn.metrics import confusion_matrix\n",
    "\n",
    "aff_confusion_matrix(df_results_base[\"y_true\"], df_results_base[\"y_pred_lr_bin\"])"
   ]
  },
  {
   "cell_type": "markdown",
   "id": "ef120093",
   "metadata": {},
   "source": [
    "# resampling"
   ]
  },
  {
   "cell_type": "markdown",
   "id": "8a572400",
   "metadata": {},
   "source": [
    "- Le sous-échantillonnage aléatoire (random undersampling) des observations majoritaires : on retire aléatoirement des observations majoritaires\n",
    "- Le sur-échantillonnage aléatoire (random oversampling) des observations minoritaires : on tire au hasard des individus minoritaires que l’on rajoute aux données\n",
    "- Le sur-échantillonnage synthétique (SMOTE pour Synthetic Minority Oversampling Technique) produit des observations minoritaires ressemblantes mais distinctes de celles déjà existantes\n",
    "\n",
    "- 'auto': equivalent to 'not minority' =rééchantillonner toutes les classes sauf la classe minoritaire"
   ]
  },
  {
   "cell_type": "code",
   "execution_count": 29,
   "id": "ee465494",
   "metadata": {},
   "outputs": [
    {
     "name": "stdout",
     "output_type": "stream",
     "text": [
      "nombre d'individus pour la classe 0 : 197791 . soit [91.88725877] % de la population.\n",
      "nombre d'individus pour la classe 1 : 17463 . soit [8.11274123] % de la population.\n"
     ]
    }
   ],
   "source": [
    "percent0 = (y_train.value_counts()[0] / y_train.shape) * 100\n",
    "percent1 = (y_train.value_counts()[1] / y_train.shape) * 100\n",
    "\n",
    "print(\"nombre d'individus pour la classe 0 :\", y_train.value_counts()[0], \". soit\", percent0, \"% de la population.\")\n",
    "print(\"nombre d'individus pour la classe 1 :\", y_train.value_counts()[1], \". soit\", percent1, \"% de la population.\")"
   ]
  },
  {
   "cell_type": "code",
   "execution_count": 30,
   "id": "27b69a87",
   "metadata": {},
   "outputs": [
    {
     "name": "stdout",
     "output_type": "stream",
     "text": [
      "resampling\n",
      "original dataset shape Counter({0: 197791, 1: 17463})\n",
      "resampled dataset shape Counter({0: 17463, 1: 17463})\n"
     ]
    }
   ],
   "source": [
    "from imblearn.under_sampling  import RandomUnderSampler\n",
    "\n",
    "print(\"resampling\")\n",
    "smt = RandomUnderSampler()\n",
    "X_smt, y_smt = smt.fit_resample(X_train_transformed, y_train)\n",
    "\n",
    "print('original dataset shape %s' % Counter(y_train))\n",
    "print('resampled dataset shape %s' % Counter(y_smt))"
   ]
  },
  {
   "cell_type": "code",
   "execution_count": 31,
   "id": "9255d86f",
   "metadata": {
    "scrolled": true
   },
   "outputs": [
    {
     "name": "stdout",
     "output_type": "stream",
     "text": [
      "classe 0: 17463\n",
      "classe 1: 17463\n",
      "proportion: 1.0 : 1\n"
     ]
    },
    {
     "data": {
      "text/plain": [
       "([<matplotlib.patches.Wedge at 0x1c18c0120b0>,\n",
       "  <matplotlib.patches.Wedge at 0x1c18c011fc0>],\n",
       " [Text(-1.1, 1.3471114790620887e-16, 'classe 0'),\n",
       "  Text(1.2000000000000002, -2.939152317953648e-16, 'classe 1')],\n",
       " [Text(-0.6, 7.347880794884119e-17, '50.0%'),\n",
       "  Text(0.7, -1.7145055188062944e-16, '50.0%')])"
      ]
     },
     "execution_count": 31,
     "metadata": {},
     "output_type": "execute_result"
    },
    {
     "data": {
      "image/png": "[encoded data removed]",
      "text/plain": [
       "<Figure size 800x800 with 1 Axes>"
      ]
     },
     "metadata": {},
     "output_type": "display_data"
    }
   ],
   "source": [
    "target_count = y_smt.value_counts()\n",
    "print('classe 0:', target_count[0])\n",
    "print('classe 1:', target_count[1])\n",
    "print('proportion:', round(target_count[0] / target_count[1], 2), ': 1')\n",
    "\n",
    "plt.figure(figsize=(8,8))\n",
    "\n",
    "plt.pie(target_count, explode=[0, 0.1], labels=[\"classe 0\", \"classe 1\"], autopct='%1.1f%%',\n",
    "        shadow=True, startangle=90)"
   ]
  },
  {
   "cell_type": "code",
   "execution_count": null,
   "id": "2462469b",
   "metadata": {},
   "outputs": [],
   "source": [
    "model = LogisticRegression()\n",
    "solvers = ['newton-cg', 'lbfgs', 'liblinear']\n",
    "penalty = ['l2']\n",
    "c_values = [100, 10, 1.0, 0.1, 0.01]\n",
    "# define grid search\n",
    "grid = dict(solver=solvers,penalty=penalty,C=c_values)\n",
    "cv = RepeatedStratifiedKFold(n_splits=10, n_repeats=3, random_state=1)\n",
    "grid_search = GridSearchCV(estimator=model, param_grid=grid, n_jobs=-1, cv=cv, scoring='roc_auc',error_score=0)\n",
    "grid_result = grid_search.fit(X_smt, y_smt)\n",
    "# summarize results\n",
    "print(\"Best: %f using %s\" % (grid_result.best_score_, grid_result.best_params_))\n",
    "means = grid_result.cv_results_['mean_test_score']\n",
    "stds = grid_result.cv_results_['std_test_score']\n",
    "params = grid_result.cv_results_['params']\n",
    "for mean, stdev, param in zip(means, stds, params):\n",
    "    print(\"%f (%f) with: %r\" % (mean, stdev, param))"
   ]
  },
  {
   "cell_type": "code",
   "execution_count": null,
   "id": "8edcb3e5",
   "metadata": {},
   "outputs": [],
   "source": [
    "Best: 0.582346 using {'C': 1.0, 'penalty': 'l2', 'solver': 'newton-cg'}\n",
    "0.582145 (0.009070) with: {'C': 100, 'penalty': 'l2', 'solver': 'newton-cg'}\n",
    "0.543950 (0.009215) with: {'C': 100, 'penalty': 'l2', 'solver': 'lbfgs'}\n",
    "0.566198 (0.010931) with: {'C': 100, 'penalty': 'l2', 'solver': 'liblinear'}\n",
    "0.582021 (0.009009) with: {'C': 10, 'penalty': 'l2', 'solver': 'newton-cg'}\n",
    "0.544437 (0.009022) with: {'C': 10, 'penalty': 'l2', 'solver': 'lbfgs'}\n",
    "0.567371 (0.010336) with: {'C': 10, 'penalty': 'l2', 'solver': 'liblinear'}\n",
    "0.582346 (0.008499) with: {'C': 1.0, 'penalty': 'l2', 'solver': 'newton-cg'}\n",
    "0.544122 (0.009121) with: {'C': 1.0, 'penalty': 'l2', 'solver': 'lbfgs'}\n",
    "0.566474 (0.010039) with: {'C': 1.0, 'penalty': 'l2', 'solver': 'liblinear'}\n",
    "0.582117 (0.009052) with: {'C': 0.1, 'penalty': 'l2', 'solver': 'newton-cg'}\n",
    "0.544399 (0.008827) with: {'C': 0.1, 'penalty': 'l2', 'solver': 'lbfgs'}\n",
    "0.564078 (0.009342) with: {'C': 0.1, 'penalty': 'l2', 'solver': 'liblinear'}\n",
    "0.582088 (0.008292) with: {'C': 0.01, 'penalty': 'l2', 'solver': 'newton-cg'}\n",
    "0.544800 (0.008795) with: {'C': 0.01, 'penalty': 'l2', 'solver': 'lbfgs'}\n",
    "0.566178 (0.009317) with: {'C': 0.01, 'penalty': 'l2', 'solver': 'liblinear'}"
   ]
  },
  {
   "cell_type": "markdown",
   "id": "07bd00f4",
   "metadata": {},
   "source": [
    "# regression logistique & baseline avec SMT"
   ]
  },
  {
   "cell_type": "code",
   "execution_count": null,
   "id": "08a749ac",
   "metadata": {},
   "outputs": [],
   "source": [
    "from sklearn.linear_model import LogisticRegression\n",
    "from sklearn.metrics import accuracy_score\n",
    "\n",
    "# we create the results dataframe\n",
    "df_results_base2 = pd.DataFrame(y_test.values, columns=[\"y_true\"], index=y_test.index)\n",
    "\n",
    "# we launch the predictions\n",
    "log_reg_pred = log_reg(X_smt, y_smt, y_test, X_test_transformed)\n",
    "\n",
    "# save the results\n",
    "df_results_base2 = save_results(df_results_base2, log_reg_pred, \"y_pred_lr\", y_test)\n",
    "\n",
    "# we \"binarize\" the probabilities with a treshold set to 0.5\n",
    "# for example, for a treshold of 0.5, if the probability is lower the value will be 0. Otherwise it will be 1.\n",
    "# and we concatenate the data to our array of results\n",
    "df_results_base2[\"y_pred_lr_bin\"] = transform_treshold(df_results_base2[\"y_pred_lr\"], 0.5)\n",
    "\n",
    "display(df_results_base2.head())\n",
    "print(df_results_base2.shape)\n",
    "print(classification_report(y_test, df_results_base2[\"y_pred_lr_bin\"]))"
   ]
  },
  {
   "cell_type": "code",
   "execution_count": null,
   "id": "683f32d1",
   "metadata": {
    "scrolled": false
   },
   "outputs": [],
   "source": [
    "aff_confusion_matrix(df_results_base2[\"y_true\"], df_results_base2[\"y_pred_lr_bin\"])"
   ]
  },
  {
   "cell_type": "markdown",
   "id": "345b731c",
   "metadata": {},
   "source": [
    "FN (False Negative) : les cas où la prédiction est négative, mais où la valeur réelle est positive\n",
    "Perte réelle si le crédit client accepté se transforme en défaut de paiement\n",
    "\n",
    "FP (False Positive) : les cas où la prédiction est positive, mais où la valeur réelle est négative\n",
    "Perte d'opportunité si le crédit client est refusé à tort, alors qu'il aurait été en mesure d'être remboursé"
   ]
  },
  {
   "cell_type": "markdown",
   "id": "33099965",
   "metadata": {},
   "source": [
    "# Autre model et otptimisation des hyperparametres"
   ]
  },
  {
   "cell_type": "markdown",
   "id": "7bd32a10",
   "metadata": {},
   "source": [
    "# lightGBM"
   ]
  },
  {
   "cell_type": "markdown",
   "id": "1d97534b",
   "metadata": {},
   "source": [
    "les modeles de boosting (lgbm) sont plus sujets au surentrainement et rapide. Ils offrent une précision beaucoup plus élevée et sont plus comptabiles avec les grands ensembles de données.\n",
    "De plus, c'est Le model le plus récompenser sur Kaggle au sujet de la classifcation binaire.\n",
    "Essayons-le"
   ]
  },
  {
   "cell_type": "code",
   "execution_count": null,
   "id": "8a079ca0",
   "metadata": {},
   "outputs": [],
   "source": [
    "def model_optimisation (classifier, param_grid, scoring, X, y):\n",
    "    cv = RepeatedStratifiedKFold(n_splits=5, n_repeats=2, random_state=51)\n",
    "    grid_search = GridSearchCV(estimator=classifier, param_grid=param_grid,scoring='roc_auc', cv=cv)\n",
    "    grid_search.fit(X, y)\n",
    "    return grid_search.best_score_,grid_search.best_params_,grid_search.best_estimator_"
   ]
  },
  {
   "cell_type": "code",
   "execution_count": null,
   "id": "51716100",
   "metadata": {},
   "outputs": [],
   "source": [
    "#    'num_leaves': [15, 31, 63],\n",
    "#    'max_depth': (6, 10, 30),\n",
    "#    'num_iterations': [50, 100, 200],\n",
    "#    'min_data_in_leaf': [10, 20, 40],\n",
    "#    'learning_rate': [0.05, 0.1, 0.2]"
   ]
  },
  {
   "cell_type": "code",
   "execution_count": null,
   "id": "17f44abc",
   "metadata": {},
   "outputs": [],
   "source": [
    "### Light GBM\n",
    "light_gbm_params = {\n",
    "        'max_depth': (6, 10),\n",
    "        'num_leaves':(15, 20),\n",
    "        #'min_data_in_leaf': (230, 250),\n",
    "               }\n",
    "\n",
    "scoring = make_scorer(roc_auc_score)\n",
    "LGBM = lgb(random_state=51, n_estimators=3000)"
   ]
  },
  {
   "cell_type": "code",
   "execution_count": null,
   "id": "e1813bf4",
   "metadata": {
    "scrolled": true
   },
   "outputs": [],
   "source": [
    "#lgbm_model_score, lgbm_model_param, lgbm_model_estimator = model_optimisation(LGBM, light_gbm_params, scoring, X_smt, y_smt)"
   ]
  },
  {
   "cell_type": "code",
   "execution_count": null,
   "id": "1fcfe9ef",
   "metadata": {},
   "outputs": [],
   "source": [
    "#lgbm_model_score"
   ]
  },
  {
   "cell_type": "code",
   "execution_count": null,
   "id": "e04c17d5",
   "metadata": {
    "scrolled": false
   },
   "outputs": [],
   "source": [
    "#lgbm_model_param"
   ]
  },
  {
   "cell_type": "code",
   "execution_count": null,
   "id": "962b72ff",
   "metadata": {},
   "outputs": [],
   "source": [
    "#lgbm_model_estimator"
   ]
  },
  {
   "cell_type": "code",
   "execution_count": null,
   "id": "550141ac",
   "metadata": {},
   "outputs": [],
   "source": [
    "#max_depth=10, min_data_in_leaf=230, n_estimators=10000, num_leaves=20, random_state=51"
   ]
  },
  {
   "cell_type": "code",
   "execution_count": null,
   "id": "d8bcf02c",
   "metadata": {},
   "outputs": [],
   "source": [
    "#is_unbalance=False, learning_rate=0.05, max_depth=10, min_data_in_leaf=40, n_estimators=10000, num_iterations=200, num_leaves=63, random_state=51"
   ]
  },
  {
   "cell_type": "code",
   "execution_count": null,
   "id": "418ab70d",
   "metadata": {
    "scrolled": false
   },
   "outputs": [],
   "source": [
    "df_results = pd.DataFrame(y_test.values, columns=[\"y_true\"], index=y_test.index)\n",
    "\n",
    "# create the model\n",
    "clf_lgb = lgb(n_estimators=3000, learning_rate=0.05, max_depth=10, min_data_in_leaf=40, num_iterations=200, num_leaves=63, random_state=51)\n",
    "\n",
    "# train on the training data\n",
    "clf_lgb.fit(X_train, y_train)\n",
    "\n",
    "# make predictions\n",
    "# make sure to select the second column only\n",
    "\n",
    "lgb_pred_smoted = clf_lgb.predict_proba(X_test)[:, 1]\n",
    "\n",
    "\n",
    "\n",
    "df_results = save_results(df_results, lgb_pred_smoted, \"y_pred_lgb_smoted\", y_test)\n",
    "df_results[\"y_pred_lgb_smoted_bin\"] = transform_treshold(df_results[\"y_pred_lgb_smoted\"], 0.5)\n",
    "# submission dataframe\n",
    "df_results[\"y_pred_lgb_smoted\"] = lgb_pred_smoted\n",
    "df_results.head()"
   ]
  },
  {
   "cell_type": "code",
   "execution_count": null,
   "id": "be9821fd",
   "metadata": {},
   "outputs": [],
   "source": [
    "auc_score_lgb = roc_auc_score(y_test, lgb_pred_smoted)"
   ]
  },
  {
   "cell_type": "code",
   "execution_count": null,
   "id": "67d40b58",
   "metadata": {
    "scrolled": true
   },
   "outputs": [],
   "source": [
    "auc_score_lgb"
   ]
  },
  {
   "cell_type": "code",
   "execution_count": null,
   "id": "de4bf47f",
   "metadata": {},
   "outputs": [],
   "source": [
    "#grid_search.best_estimator_"
   ]
  },
  {
   "cell_type": "code",
   "execution_count": null,
   "id": "3faf39f5",
   "metadata": {
    "scrolled": false
   },
   "outputs": [],
   "source": [
    "from sklearn.metrics import confusion_matrix, precision_recall_curve, ConfusionMatrixDisplay\n",
    "from sklearn import metrics\n",
    "\n",
    "\n",
    "\n",
    "df_results = pd.DataFrame(y_test.values, columns=[\"y_true\"], index=y_test.index)\n",
    "\n",
    "# create the model\n",
    "clf_lgb = lgb(n_estimators=3000, learning_rate=0.05, max_depth=10, min_data_in_leaf=40, num_iterations=200, num_leaves=63, random_state=51)\n",
    "\n",
    "# train on the training data\n",
    "clf_lgb.fit(X_train, y_train)\n",
    "\n",
    "# make predictions\n",
    "# make sure to select the second column only\n",
    "\n",
    "lgb_pred_smoted = clf_lgb.predict_proba(X_test)[:, 1]\n",
    "\n",
    "df_results = save_results(df_results, lgb_pred_smoted, \"y_pred_lgb_smoted\", y_test)\n",
    "df_results[\"y_pred_lgb_smoted_bin\"] = transform_treshold(df_results[\"y_pred_lgb_smoted\"], 0.43)\n",
    "# submission dataframe\n",
    "df_results[\"y_pred_lgb_smoted\"] = lgb_pred_smoted\n",
    "\n",
    "\n",
    "\n",
    "\n",
    "fpr, tpr, thresholds = metrics.roc_curve(y_test, df_results[\"y_pred_lgb_smoted\"])\n",
    "precision_, recall_, thresh_ = precision_recall_curve(y_test, df_results[\"y_pred_lgb_smoted\"])\n",
    "\n",
    "# calculate the g-mean for each threshold\n",
    "g_means = np.sqrt(tpr * (1-fpr))\n",
    "# locate the index of the largest g-mean\n",
    "ix = np.argmax(g_means)\n",
    "\n",
    "\n",
    "\n",
    "tn, fp, fn, tp = confusion_matrix(y_test, df_results[\"y_pred_lgb_smoted_bin\"]).ravel()\n",
    "print(f'TN = {tn}, FP = {fp}, FN = {fn}, TP = {tp}')\n",
    "som=tn+fp+fn+tp\n",
    "conf_mat = [[tn/som*100,fp/som*100],[fn/som*100,tp/som*100]]\n",
    "\n",
    "auc = metrics.roc_auc_score(y_test, lgb_pred_smoted)\n",
    "recall = metrics.recall_score(y_test, df_results[\"y_pred_lgb_smoted_bin\"] )\n",
    "precision = metrics.precision_score(y_test, df_results[\"y_pred_lgb_smoted_bin\"] )\n",
    "f1 = metrics.f1_score(y_test, df_results[\"y_pred_lgb_smoted_bin\"] )\n",
    "\n",
    "\n",
    "######################################\n",
    "print(f'Testset: \\\n",
    "threshold = {thresholds[ix]:.0%}, \\\n",
    "G-Mean= {g_means[ix]:.0%}, \\\n",
    "AUC = {auc:.0%}, \\\n",
    "recall= {recall:.0%}, \\\n",
    "f1 = {f1:.0%}')\n",
    "######################################\n",
    "\n",
    "plt.figure(figsize=(7, 7))\n",
    "\n",
    "plt.subplot(221)\n",
    "plt.axis('scaled')\n",
    "plt.xlim([0, 1])\n",
    "plt.ylim([0, 1])\n",
    "plt.title(\"ROC Curve\")\n",
    "plt.plot(fpr, tpr, 'k')\n",
    "plt.plot([0, 1], [0, 1], '--', lw=2, color='k')\n",
    "plt.fill_between(fpr, tpr, facecolor='dodgerblue', alpha=0.7)\n",
    "plt.scatter(fpr[ix], tpr[ix], marker='o', s=100, color='r', label='Best')\n",
    "plt.text(0.95, 0.05, f'AUC = {auc:.3f}', ha='right',\n",
    "         fontsize=16, weight='bold', color='white')\n",
    "plt.xlabel(\"False positive rate\")\n",
    "plt.ylabel(\"True positive rate\")\n",
    "\n",
    "plt.subplot(222)\n",
    "plt.plot(thresholds, g_means, 'r');\n",
    "plt.scatter(thresholds[ix], g_means[ix], marker='o', s=100, color='r', label='Best')\n",
    "plt.xlim(0,1)\n",
    "plt.xlabel('Proba threshold')\n",
    "plt.ylim(0,1)\n",
    "plt.ylabel('G-Means')\n",
    "plt.title('G-Means vs. threshold')\n",
    "\n",
    "plt.subplot(223)\n",
    "plt.plot(recall_, precision_, 'teal');\n",
    "plt.scatter(recall, precision, marker='o', s=100, color='r', label='Best')\n",
    "plt.xlim(0,1)\n",
    "plt.xlabel('Recall')\n",
    "plt.ylim(0,1)\n",
    "plt.ylabel('Precision')\n",
    "plt.title('Precision-recall curve')\n",
    "\n",
    "plt.subplot(224)\n",
    "sns.heatmap(conf_mat, annot=True, cbar=True)\n",
    "plt.xticks([0.5,1.5], [1,0])\n",
    "plt.yticks([0.5,1.5], [1,0])\n",
    "plt.xlabel('Predicted label')\n",
    "plt.ylabel('True label')\n",
    "plt.title('Confusion matrix')\n",
    "\n",
    "plt.tight_layout(pad=1.1)\n",
    "plt.show()"
   ]
  },
  {
   "cell_type": "code",
   "execution_count": null,
   "id": "90439de3",
   "metadata": {},
   "outputs": [],
   "source": [
    "from sklearn.metrics import confusion_matrix, precision_recall_curve\n",
    "from sklearn import metrics\n",
    "\n",
    "\n",
    "df_results = pd.DataFrame(y_test.values, columns=[\"y_true\"], index=y_test.index)\n",
    "\n",
    "# create the model\n",
    "clf_lgb = lgb(n_estimators=3000, learning_rate=0.05, max_depth=10, min_data_in_leaf=40, num_iterations=200, num_leaves=63, random_state=51)\n",
    "\n",
    "# Train on the training data\n",
    "clf_lgb.fit(X_smt, y_smt)\n",
    "\n",
    "# make predictions\n",
    "# make sure to select the second column only\n",
    "\n",
    "lgb_pred_smoted = clf_lgb.predict_proba(X_test)[:, 1]\n",
    "\n",
    "df_results = save_results(df_results, lgb_pred_smoted, \"y_pred_lgb_smoted\", y_test)\n",
    "df_results[\"y_pred_lgb_smoted_bin\"] = transform_treshold(df_results[\"y_pred_lgb_smoted\"], 0.43)\n",
    "# submission dataframe\n",
    "df_results[\"y_pred_lgb_smoted\"] = lgb_pred_smoted\n",
    "\n",
    "\n",
    "\n",
    "\n",
    "fpr, tpr, thresholds = metrics.roc_curve(y_test, df_results[\"y_pred_lgb_smoted\"])\n",
    "precision_, recall_, thresh_ = precision_recall_curve(y_test, df_results[\"y_pred_lgb_smoted\"])\n",
    "\n",
    "# calculate the g-mean for each threshold\n",
    "g_means = np.sqrt(tpr * (1-fpr))\n",
    "# locate the index of the largest g-mean\n",
    "ix = np.argmax(g_means)\n",
    "\n",
    "\n",
    "\n",
    "tn, fp, fn, tp = confusion_matrix(y_test, df_results[\"y_pred_lgb_smoted_bin\"]).ravel()\n",
    "print(f'TN = {tn}, FP = {fp}, FN = {fn}, TP = {tp}')\n",
    "som=tn+fp+fn+tp\n",
    "conf_mat = [[tn/som*100,fp/som*100],[fn/som*100,tp/som*100]]\n",
    "\n",
    "auc = metrics.roc_auc_score(y_test, lgb_pred_smoted)\n",
    "recall = metrics.recall_score(y_test, df_results[\"y_pred_lgb_smoted_bin\"] )\n",
    "precision = metrics.precision_score(y_test, df_results[\"y_pred_lgb_smoted_bin\"] )\n",
    "f1 = metrics.f1_score(y_test, df_results[\"y_pred_lgb_smoted_bin\"] )\n",
    "\n",
    "\n",
    "######################################\n",
    "print(f'Testset: \\\n",
    "threshold = {thresholds[ix]:.0%}, \\\n",
    "G-Mean= {g_means[ix]:.0%}, \\\n",
    "AUC = {auc:.0%}, \\\n",
    "recall= {recall:.0%}, \\\n",
    "f1 = {f1:.0%}')\n",
    "######################################\n",
    "\n",
    "plt.figure(figsize=(7, 7))\n",
    "\n",
    "plt.subplot(221)\n",
    "plt.axis('scaled')\n",
    "plt.xlim([0, 1])\n",
    "plt.ylim([0, 1])\n",
    "plt.title(\"ROC Curve\")\n",
    "plt.plot(fpr, tpr, 'k')\n",
    "plt.plot([0, 1], [0, 1], '--', lw=2, color='k')\n",
    "plt.fill_between(fpr, tpr, facecolor='dodgerblue', alpha=0.7)\n",
    "plt.scatter(fpr[ix], tpr[ix], marker='o', s=100, color='r', label='Best')\n",
    "plt.text(0.95, 0.05, f'AUC = {auc:.3f}', ha='right',\n",
    "         fontsize=16, weight='bold', color='white')\n",
    "plt.xlabel(\"False positive rate\")\n",
    "plt.ylabel(\"True positive rate\")\n",
    "\n",
    "plt.subplot(222)\n",
    "plt.plot(thresholds, g_means, 'r');\n",
    "plt.scatter(thresholds[ix], g_means[ix], marker='o', s=100, color='r', label='Best')\n",
    "plt.xlim(0,1)\n",
    "plt.xlabel('Proba threshold')\n",
    "plt.ylim(0,1)\n",
    "plt.ylabel('G-Means')\n",
    "plt.title('G-Means vs. threshold')\n",
    "\n",
    "plt.subplot(223)\n",
    "plt.plot(recall_, precision_, 'teal');\n",
    "plt.scatter(recall, precision, marker='o', s=100, color='r', label='Best')\n",
    "plt.xlim(0,1)\n",
    "plt.xlabel('Recall')\n",
    "plt.ylim(0,1)\n",
    "plt.ylabel('Precision')\n",
    "plt.title('Precision-recall curve')\n",
    "\n",
    "plt.subplot(224)\n",
    "sns.heatmap(conf_mat, annot=True, cbar=True)\n",
    "plt.xticks([0.5,1.5], [1,0])\n",
    "plt.yticks([0.5,1.5], [1,0])\n",
    "plt.xlabel('Predicted label')\n",
    "plt.ylabel('True label')\n",
    "plt.title('Confusion matrix')\n",
    "\n",
    "plt.tight_layout(pad=1.1)\n",
    "plt.show()"
   ]
  },
  {
   "cell_type": "code",
   "execution_count": null,
   "id": "81dc9103",
   "metadata": {
    "scrolled": false
   },
   "outputs": [],
   "source": [
    "from sklearn.metrics import confusion_matrix, precision_recall_curve\n",
    "from sklearn import metrics\n",
    "\n",
    "\n",
    "\n",
    "df_results = pd.DataFrame(y_test.values, columns=[\"y_true\"], index=y_test.index)\n",
    "\n",
    "# create the model\n",
    "clf_lgb = lgb(class_weight = 'balanced', n_estimators=3000, learning_rate=0.05, max_depth=10, min_data_in_leaf=40, num_iterations=200, num_leaves=63, random_state=51)\n",
    "\n",
    "# train on the training data\n",
    "clf_lgb.fit(X_train, y_train)\n",
    "\n",
    "# make predictions\n",
    "# make sure to select the second column only\n",
    "\n",
    "lgb_pred = clf_lgb.predict_proba(X_test)[:, 1]\n",
    "\n",
    "df_results = save_results(df_results, lgb_pred, \"y_pred_lgb\", y_test)\n",
    "df_results[\"y_pred_lgb_bin\"] = transform_treshold(df_results[\"y_pred_lgb\"], 0.43)\n",
    "# submission dataframe\n",
    "df_results[\"y_pred_lgb\"] = lgb_pred_smoted\n",
    "\n",
    "\n",
    "\n",
    "\n",
    "fpr, tpr, thresholds = metrics.roc_curve(y_test, df_results[\"y_pred_lgb\"])\n",
    "precision_, recall_, thresh_ = precision_recall_curve(y_test, df_results[\"y_pred_lgb\"])\n",
    "\n",
    "# calculate the g-mean for each threshold\n",
    "g_means = np.sqrt(tpr * (1-fpr))\n",
    "# locate the index of the largest g-mean\n",
    "ix = np.argmax(g_means)\n",
    "\n",
    "\n",
    "\n",
    "tn, fp, fn, tp = confusion_matrix(y_test, df_results[\"y_pred_lgb_bin\"]).ravel()\n",
    "print(f'TN = {tn}, FP = {fp}, FN = {fn}, TP = {tp}')\n",
    "som=tn+fp+fn+tp\n",
    "conf_mat = [[tn/som*100,fp/som*100],[fn/som*100,tp/som*100]]\n",
    "\n",
    "auc = metrics.roc_auc_score(y_test, lgb_pred_smoted)\n",
    "recall = metrics.recall_score(y_test, df_results[\"y_pred_lgb_bin\"] )\n",
    "precision = metrics.precision_score(y_test, df_results[\"y_pred_lgb_bin\"] )\n",
    "f1 = metrics.f1_score(y_test, df_results[\"y_pred_lgb_bin\"] )\n",
    "\n",
    "\n",
    "######################################\n",
    "print(f'Testset: \\\n",
    "threshold = {thresholds[ix]:.0%}, \\\n",
    "G-Mean= {g_means[ix]:.0%}, \\\n",
    "AUC = {auc:.0%}, \\\n",
    "recall= {recall:.0%}, \\\n",
    "f1 = {f1:.0%}')\n",
    "######################################\n",
    "\n",
    "plt.figure(figsize=(7, 7))\n",
    "\n",
    "plt.subplot(221)\n",
    "plt.axis('scaled')\n",
    "plt.xlim([0, 1])\n",
    "plt.ylim([0, 1])\n",
    "plt.title(\"ROC Curve\")\n",
    "plt.plot(fpr, tpr, 'k')\n",
    "plt.plot([0, 1], [0, 1], '--', lw=2, color='k')\n",
    "plt.fill_between(fpr, tpr, facecolor='dodgerblue', alpha=0.7)\n",
    "plt.scatter(fpr[ix], tpr[ix], marker='o', s=100, color='r', label='Best')\n",
    "plt.text(0.95, 0.05, f'AUC = {auc:.3f}', ha='right',\n",
    "         fontsize=16, weight='bold', color='white')\n",
    "plt.xlabel(\"False positive rate\")\n",
    "plt.ylabel(\"True positive rate\")\n",
    "\n",
    "plt.subplot(222)\n",
    "plt.plot(thresholds, g_means, 'r');\n",
    "plt.scatter(thresholds[ix], g_means[ix], marker='o', s=100, color='r', label='Best')\n",
    "plt.xlim(0,1)\n",
    "plt.xlabel('Proba threshold')\n",
    "plt.ylim(0,1)\n",
    "plt.ylabel('G-Means')\n",
    "plt.title('G-Means vs. threshold')\n",
    "\n",
    "plt.subplot(223)\n",
    "plt.plot(recall_, precision_, 'teal');\n",
    "plt.scatter(recall, precision, marker='o', s=100, color='r', label='Best')\n",
    "plt.xlim(0,1)\n",
    "plt.xlabel('Recall')\n",
    "plt.ylim(0,1)\n",
    "plt.ylabel('Precision')\n",
    "plt.title('Precision-recall curve')\n",
    "\n",
    "plt.subplot(224)\n",
    "sns.heatmap(conf_mat, annot=True, cbar=True)\n",
    "plt.xticks([0.5,1.5], [1,0])\n",
    "plt.yticks([0.5,1.5], [1,0])\n",
    "plt.xlabel('Predicted label')\n",
    "plt.ylabel('True label')\n",
    "plt.title('Confusion matrix')\n",
    "\n",
    "plt.tight_layout(pad=1.1)\n",
    "plt.show()"
   ]
  },
  {
   "cell_type": "markdown",
   "id": "4584ccb7",
   "metadata": {},
   "source": [
    "# save the model\n",
    "filename = 'classifier_lgbm_model.sav'\n",
    "pickle.dump(clf_lgb, open(filename, 'wb'))"
   ]
  },
  {
   "cell_type": "markdown",
   "id": "2c1c6b19",
   "metadata": {},
   "source": [
    "# save the preprocessor\n",
    "filename = 'preprocessor.sav'\n",
    "pickle.dump(preprocessor_fitted, open(filename, 'wb'))"
   ]
  },
  {
   "cell_type": "markdown",
   "id": "3db50e34",
   "metadata": {},
   "source": [
    "data_export = train_dataset.iloc[0:18000].copy()\n",
    "data_export['SK_ID_CURR']=train_ids[0:18000]\n",
    "data_export['prediction']=df_results[\"y_pred_lgb_bin\"]\n",
    "data_export['pred_prob']=df_results[\"y_pred_lgb\"]\n",
    "data_export.to_csv(\"dataset_exported.csv\",index=False)"
   ]
  },
  {
   "cell_type": "markdown",
   "id": "2eb51f46",
   "metadata": {
    "scrolled": false
   },
   "source": [
    "data_export.info()"
   ]
  },
  {
   "cell_type": "markdown",
   "id": "3e999a02",
   "metadata": {},
   "source": [
    "application_train = pd.read_csv('data/application_train.csv')\n",
    "application_test = pd.read_csv('data/application_test.csv')\n",
    "\n",
    "data_export4 = application_train.iloc[0:18000].copy()\n",
    "data_export4.to_csv(\"application_train.csv\",index=False)\n",
    "\n",
    "data_export5 = application_test.iloc[0:18000].copy()\n",
    "data_export5.to_csv(\"application_test.csv\",index=False)"
   ]
  },
  {
   "cell_type": "markdown",
   "id": "5aff2948",
   "metadata": {},
   "source": [
    "y_pred_test_export = pd.DataFrame()\n",
    "y_pred_test_export['y_test'] = y_test\n",
    "y_pred_test_export['y_probability'] = df_results[\"y_pred_lgb\"]\n",
    "y_pred_test_export['y_predicted'] = df_results[\"y_pred_lgb_bin\"]\n",
    "y_pred_test_export.to_csv(\"y_pred_test_export.csv\",index=False)"
   ]
  },
  {
   "cell_type": "markdown",
   "id": "423e76a7",
   "metadata": {},
   "source": [
    "y_pred_test_export.info()"
   ]
  },
  {
   "cell_type": "markdown",
   "id": "eab4270e",
   "metadata": {},
   "source": [
    "data_export1 = test_set.iloc[0:18000].copy()\n",
    "data_export1.to_csv(\"test_set_git.csv\",index=False)"
   ]
  },
  {
   "cell_type": "markdown",
   "id": "5fb6e24f",
   "metadata": {},
   "source": [
    "data_export2 = train_set.iloc[0:18000].copy()\n",
    "data_export2.to_csv(\"train_set_git.csv\",index=False)"
   ]
  },
  {
   "cell_type": "markdown",
   "id": "68b4ec92",
   "metadata": {},
   "source": [
    "df_final = pd.read_csv('df_final.csv')\n",
    "data_export3 = df_final.iloc[0:18000].copy()\n",
    "data_export3.to_csv(\"df_final_git.csv\",index=False)"
   ]
  },
  {
   "cell_type": "code",
   "execution_count": null,
   "id": "9d42bf80",
   "metadata": {},
   "outputs": [],
   "source": [
    "from sklearn.metrics import confusion_matrix, precision_recall_curve\n",
    "from sklearn import metrics\n",
    "\n",
    "\n",
    "\n",
    "df_results = pd.DataFrame(y_test.values, columns=[\"y_true\"], index=y_test.index)\n",
    "\n",
    "# create the model\n",
    "clf_lgb = lgb(class_weight = 'balanced', n_estimators=3000, learning_rate=0.05, max_depth=10, min_data_in_leaf=40, num_iterations=200, num_leaves=63, random_state=51)\n",
    "\n",
    "# train on the training data\n",
    "clf_lgb.fit(X_smt, y_smt)\n",
    "\n",
    "# make predictions\n",
    "# make sure to select the second column only\n",
    "\n",
    "lgb_pred_smoted = clf_lgb.predict_proba(X_test)[:, 1]\n",
    "\n",
    "df_results = save_results(df_results, lgb_pred_smoted, \"y_pred_lgb_smoted\", y_test)\n",
    "df_results[\"y_pred_lgb_smoted_bin\"] = transform_treshold(df_results[\"y_pred_lgb_smoted\"], 0.43)\n",
    "# Submission dataframe\n",
    "df_results[\"y_pred_lgb_smoted\"] = lgb_pred_smoted\n",
    "\n",
    "\n",
    "\n",
    "\n",
    "fpr, tpr, thresholds = metrics.roc_curve(y_test, df_results[\"y_pred_lgb_smoted\"])\n",
    "precision_, recall_, thresh_ = precision_recall_curve(y_test, df_results[\"y_pred_lgb_smoted\"])\n",
    "\n",
    "# calculate the g-mean for each threshold\n",
    "g_means = np.sqrt(tpr * (1-fpr))\n",
    "# locate the index of the largest g-mean\n",
    "ix = np.argmax(g_means)\n",
    "\n",
    "\n",
    "\n",
    "tn, fp, fn, tp = confusion_matrix(y_test, df_results[\"y_pred_lgb_smoted_bin\"]).ravel()\n",
    "print(f'TN = {tn}, FP = {fp}, FN = {fn}, TP = {tp}')\n",
    "som=tn+fp+fn+tp\n",
    "conf_mat = [[tn/som*100,fp/som*100],[fn/som*100,tp/som*100]]\n",
    "\n",
    "auc = metrics.roc_auc_score(y_test, lgb_pred_smoted)\n",
    "recall = metrics.recall_score(y_test, df_results[\"y_pred_lgb_smoted_bin\"] )\n",
    "precision = metrics.precision_score(y_test, df_results[\"y_pred_lgb_smoted_bin\"] )\n",
    "f1 = metrics.f1_score(y_test, df_results[\"y_pred_lgb_smoted_bin\"] )\n",
    "\n",
    "\n",
    "######################################\n",
    "print(f'Testset: \\\n",
    "threshold = {thresholds[ix]:.0%}, \\\n",
    "G-Mean= {g_means[ix]:.0%}, \\\n",
    "AUC = {auc:.0%}, \\\n",
    "recall= {recall:.0%}, \\\n",
    "f1 = {f1:.0%}')\n",
    "######################################\n",
    "\n",
    "plt.figure(figsize=(7, 7))\n",
    "\n",
    "plt.subplot(221)\n",
    "plt.axis('scaled')\n",
    "plt.xlim([0, 1])\n",
    "plt.ylim([0, 1])\n",
    "plt.title(\"ROC Curve\")\n",
    "plt.plot(fpr, tpr, 'k')\n",
    "plt.plot([0, 1], [0, 1], '--', lw=2, color='k')\n",
    "plt.fill_between(fpr, tpr, facecolor='dodgerblue', alpha=0.7)\n",
    "plt.scatter(fpr[ix], tpr[ix], marker='o', s=100, color='r', label='Best')\n",
    "plt.text(0.95, 0.05, f'AUC = {auc:.3f}', ha='right',\n",
    "         fontsize=16, weight='bold', color='white')\n",
    "plt.xlabel(\"False positive rate\")\n",
    "plt.ylabel(\"True positive rate\")\n",
    "\n",
    "plt.subplot(222)\n",
    "plt.plot(thresholds, g_means, 'r');\n",
    "plt.scatter(thresholds[ix], g_means[ix], marker='o', s=100, color='r', label='Best')\n",
    "plt.xlim(0,1)\n",
    "plt.xlabel('Proba threshold')\n",
    "plt.ylim(0,1)\n",
    "plt.ylabel('G-Means')\n",
    "plt.title('G-Means vs. threshold')\n",
    "\n",
    "plt.subplot(223)\n",
    "plt.plot(recall_, precision_, 'teal');\n",
    "plt.scatter(recall, precision, marker='o', s=100, color='r', label='Best')\n",
    "plt.xlim(0,1)\n",
    "plt.xlabel('Recall')\n",
    "plt.ylim(0,1)\n",
    "plt.ylabel('Precision')\n",
    "plt.title('Precision-recall curve')\n",
    "\n",
    "plt.subplot(224)\n",
    "sns.heatmap(conf_mat, annot=True, cbar=True)\n",
    "plt.xticks([0.5,1.5], [1,0])\n",
    "plt.yticks([0.5,1.5], [1,0])\n",
    "plt.xlabel('Predicted label')\n",
    "plt.ylabel('True label')\n",
    "plt.title('Confusion matrix')\n",
    "\n",
    "plt.tight_layout(pad=1.1)\n",
    "plt.show()"
   ]
  },
  {
   "cell_type": "markdown",
   "id": "281c3393",
   "metadata": {},
   "source": [
    "# Courbe Receiver Operating Characteristic (ROC) et Area Under the Curve (AUC)\n",
    "\n",
    "Le roc curve résume les performances d'un classificateur sur tous les seuils possibles. Il est généré en traçant le taux de vrais positifs (axe des y) par rapport au taux de faux positifs (axe des x)\n",
    "\n",
    "La courbe ROC est un outil utilisé avec les classifieurs binaires. Elle croise le taux de TP avec le taux de FP. Le taux de FP est le pourcentage d'observations négatives qui sont incorrectement classées comme positives. Il est égal à 1 moins le taux de TN, qui est le pourcentage d'observations négatives qui sont correctement classées comme négatives\n",
    "Les classificateurs qui donnent des courbes plus proches du coin supérieur gauche indiquent une meilleure performance\n",
    "\n",
    "Le score AUC est une façon de comparer les classificateurs, un incateur chiffré de la courbe. Un classificateur parfait a une aire sous la courbe ROC égale à 1, tandis qu'un classificateur aléatoire a une ROC AUC de 0.5"
   ]
  },
  {
   "cell_type": "code",
   "execution_count": null,
   "id": "2ae9b683",
   "metadata": {},
   "outputs": [],
   "source": [
    "df_results[\"y_pred_lgb_smoted_bin\"] = transform_treshold(df_results[\"y_pred_lgb_smoted\"], 0.43)\n",
    "df_results.head()"
   ]
  },
  {
   "cell_type": "code",
   "execution_count": null,
   "id": "fcd13edc",
   "metadata": {
    "scrolled": false
   },
   "outputs": [],
   "source": [
    "cf_matrix_roc_auc(clf_lgb, df_results[\"y_true\"], df_results[\"y_pred_lgb_smoted_bin\"], df_results[\"y_pred_lgb_smoted\"], feature_importances=None)"
   ]
  },
  {
   "cell_type": "markdown",
   "id": "e80cf37b",
   "metadata": {},
   "source": [
    "# Matrice de confusion et optimisation du seuil\n",
    " - minimiser les FN \n",
    " - minimiser les FP\n",
    " - maximiser Recall \n",
    " - maximiser Precision\n",
    " - Le but est d'éviter les clients avec un fort risque de défaut et donc une perte financière\n",
    " - les défaillants forment la classe positive,\n",
    " - les non-défaillants forment la classe négative\n",
    " - Si un défaillant est prédit non défaillant, le groupe Home Crédit aura perdu toute la somme prêtée à l'emprunteur. Cela constitue les plus grosses pertes pour l'entreprise\n",
    " - Ainsi, les pertes d'un crédit en raison d'une mauvaise classification dépendront des probabilités FP et FN"
   ]
  },
  {
   "cell_type": "code",
   "execution_count": null,
   "id": "d47ed2d4",
   "metadata": {},
   "outputs": [],
   "source": [
    "#RFC = RandomForestClassifier(criterion='entropy', max_features='auto', max_depth=4, n_estimators=160)"
   ]
  },
  {
   "cell_type": "code",
   "execution_count": null,
   "id": "b1ef1835",
   "metadata": {},
   "outputs": [],
   "source": [
    "from yellowbrick.classifier import DiscriminationThreshold\n",
    "\n",
    "model = RandomForestClassifier(criterion='entropy', max_depth=4, n_estimators=140)\n",
    "visualizer = DiscriminationThreshold(model)\n",
    "\n",
    "visualizer.fit(X_smt, y_smt)        # Fit the data to the visualizer\n",
    "visualizer.show()           # Finalize and render the figure"
   ]
  },
  {
   "cell_type": "code",
   "execution_count": null,
   "id": "173a7b52",
   "metadata": {},
   "outputs": [],
   "source": [
    "from yellowbrick.classifier import DiscriminationThreshold\n",
    "\n",
    "model = RandomForestClassifier(criterion='entropy', max_depth=4, n_estimators=140)\n",
    "visualizer = DiscriminationThreshold(model, fbeta=5)\n",
    "\n",
    "visualizer.fit(X_smt, y_smt)        # Fit the data to the visualizer\n",
    "visualizer.show()           # Finalize and render the figure"
   ]
  },
  {
   "cell_type": "code",
   "execution_count": null,
   "id": "90386c26",
   "metadata": {},
   "outputs": [],
   "source": [
    "from yellowbrick.classifier import DiscriminationThreshold\n",
    "\n",
    "model = RandomForestClassifier(criterion='entropy', max_depth=4, n_estimators=140)\n",
    "visualizer = DiscriminationThreshold(model, fbeta=10)\n",
    "\n",
    "visualizer.fit(X_smt, y_smt)        # Fit the data to the visualizer\n",
    "visualizer.show()           # Finalize and render the figure"
   ]
  },
  {
   "cell_type": "code",
   "execution_count": 5,
   "id": "a87de15b",
   "metadata": {},
   "outputs": [
    {
     "data": {
      "text/plain": [
       "['./threshold.joblib']"
      ]
     },
     "execution_count": 5,
     "metadata": {},
     "output_type": "execute_result"
    }
   ],
   "source": [
    "threshold=0.52\n",
    "joblib.dump(threshold, './threshold.joblib')"
   ]
  },
  {
   "cell_type": "markdown",
   "id": "b5cf7d36",
   "metadata": {},
   "source": [
    "# fonction coût ou fBeta score\n",
    "\n",
    "La mesure Fbeta est une métrique à score unique configurable pour évaluer un model de classification binaire basé sur les prédictions faites pour la classe positive\n",
    "\n",
    "Elle est calculé en utilisant la précision et le rappel:\n",
    "\n",
    "- la précision est une métrique qui calcule le pourcentage de prédictions correctes pour la classe positive\n",
    "- le recall calcule le pourcentage de prédictions correctes pour la classe positive parmi toutes les prédictions positives qui pourraient être faites\n",
    "- maximiser la précision minimisera les erreurs de faux positifs, tandis que maximiser le rappel minimisera les erreurs de faux négatifs\n",
    "\n",
    "La mesure Fbeta est une généralisation de la mesure F qui ajoute un paramètre de configuration appelé bêta. Une valeur bêta par défaut est 1,0, qui est identique a la F-mesure. Une valeur bêta plus petite, telle que 0,5, donnera plus de poids a la précision et moins au rappel, tandis qu'une valeur bêta plus élevée, telle que 2 ou 3, donne moins de poids a la précision et plus de poids au rappel dans le calcul du score\n",
    "\n",
    "Dans le but de notre projet, on s'interesse a maximiser le rappel donc minimiser les erreurs de faux négatifs.==> beta=2 ou 3"
   ]
  },
  {
   "cell_type": "markdown",
   "id": "bdf01378",
   "metadata": {},
   "source": [
    "# SHAP\n",
    "- La méthode SHAP (SHapley Additive exPlanations) consiste à calculer la valeur de Shapley pour toutes les variables de tous les individus c’est-à-dire la moyenne de l’impact d’une variable (sur la sortie, donc la prédiction) pour toutes les combinaisons de variables possibles"
   ]
  },
  {
   "cell_type": "code",
   "execution_count": null,
   "id": "c2a09779",
   "metadata": {},
   "outputs": [],
   "source": [
    "explainer = shap.TreeExplainer(clf_lgb)\n",
    "shap_values = explainer.shap_values(X_test)\n",
    "# Summary plot\n",
    "shap.summary_plot(shap_values, X_test)"
   ]
  },
  {
   "cell_type": "code",
   "execution_count": null,
   "id": "3e6d4cf2",
   "metadata": {},
   "outputs": [],
   "source": [
    "shap.summary_plot(shap_values[1], X_test, show=False)"
   ]
  },
  {
   "cell_type": "code",
   "execution_count": null,
   "id": "4111aec2",
   "metadata": {},
   "outputs": [],
   "source": [
    "explainer = shap.Explainer(clf_lgb, X_train)\n",
    "shap_values = explainer(X_train, check_additivity=False)"
   ]
  },
  {
   "cell_type": "code",
   "execution_count": null,
   "id": "c5291ffb",
   "metadata": {},
   "outputs": [],
   "source": [
    "shap.plots.bar(shap_values, max_display=36)"
   ]
  },
  {
   "cell_type": "code",
   "execution_count": null,
   "id": "0cf9dd7a",
   "metadata": {
    "scrolled": false
   },
   "outputs": [],
   "source": [
    "shap.plots.beeswarm(shap_values)"
   ]
  },
  {
   "cell_type": "markdown",
   "id": "900f0725",
   "metadata": {},
   "source": [
    "conclusion\n",
    "lightGBM donne des résultats moyennement correct\n",
    "Nous allons maintenant nous travailler sur le dashboard et afficher les informations utiles pour le client"
   ]
  },
  {
   "cell_type": "markdown",
   "id": "ba6da03f",
   "metadata": {},
   "source": [
    "# Dummy classifiers"
   ]
  },
  {
   "cell_type": "code",
   "execution_count": null,
   "id": "d14722e7",
   "metadata": {},
   "outputs": [],
   "source": [
    "from sklearn.dummy import DummyClassifier\n",
    "from sklearn.metrics import auc"
   ]
  },
  {
   "cell_type": "code",
   "execution_count": null,
   "id": "34a49798",
   "metadata": {},
   "outputs": [],
   "source": [
    "dclf = DummyClassifier(strategy=\"most_frequent\")\n",
    "dclf.fit(X_train, y_train)"
   ]
  },
  {
   "cell_type": "code",
   "execution_count": null,
   "id": "129c330b",
   "metadata": {
    "scrolled": false
   },
   "outputs": [],
   "source": [
    "y_test_pred_proba = dclf.predict_proba(X_test)\n",
    "print(y_test_pred_proba)\n",
    "print(\"total :\", y_test_pred_proba.sum())"
   ]
  },
  {
   "cell_type": "code",
   "execution_count": null,
   "id": "bc2946aa",
   "metadata": {},
   "outputs": [],
   "source": [
    "y_train_pred_proba = dclf.predict_proba(X_train)\n",
    "fpr, tpr, thr = roc_curve(y_train, y_train_pred_proba[:, 1])"
   ]
  },
  {
   "cell_type": "code",
   "execution_count": null,
   "id": "fece7e56",
   "metadata": {},
   "outputs": [],
   "source": [
    "plt.figure()\n",
    "plt.plot(\n",
    "    fpr,\n",
    "    tpr,\n",
    "    label=\"ROC curve (area = %0.2f)\" % auc(fpr, tpr),\n",
    ")\n",
    "plt.plot([0, 1], [0, 1], lw=2, linestyle=\"--\")\n",
    "plt.xlim([-0.01, 1.01])\n",
    "plt.ylim([-0.01, 1.01])\n",
    "plt.xlabel(\"false positive rate\")\n",
    "plt.ylabel(\"true positive rate\")\n",
    "plt.title(\"courbe ROC train-set\", fontsize=14)\n",
    "plt.legend()\n",
    "plt.show()"
   ]
  },
  {
   "cell_type": "code",
   "execution_count": null,
   "id": "66495651",
   "metadata": {},
   "outputs": [],
   "source": [
    "fbetascore, precision \n",
    "api flask > streamlit"
   ]
  }
 ],
 "metadata": {
  "kernelspec": {
   "display_name": "Python 3 (ipykernel)",
   "language": "python",
   "name": "python3"
  },
  "language_info": {
   "codemirror_mode": {
    "name": "ipython",
    "version": 3
   },
   "file_extension": ".py",
   "mimetype": "text/x-python",
   "name": "python",
   "nbconvert_exporter": "python",
   "pygments_lexer": "ipython3",
   "version": "3.10.9"
  }
 },
 "nbformat": 4,
 "nbformat_minor": 5
}
